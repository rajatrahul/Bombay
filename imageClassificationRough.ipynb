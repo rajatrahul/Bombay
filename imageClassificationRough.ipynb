{
 "cells": [
  {
   "cell_type": "code",
   "execution_count": 11,
   "id": "c39b3807",
   "metadata": {},
   "outputs": [],
   "source": [
    "import zipfile\n",
    "output =\"/home/rajat/Downloads/dataset_1.zip\"\n",
    "with zipfile.ZipFile(output, 'r') as zip_ref:\n",
    "    zip_ref.extractall('dataset')"
   ]
  },
  {
   "cell_type": "code",
   "execution_count": 1,
   "id": "00cd48de",
   "metadata": {},
   "outputs": [],
   "source": [
    "import os\n",
    "import cv2\n",
    "import numpy as np\n",
    "\n",
    "def load_images_from_folder(folder):\n",
    "    images = []\n",
    "    labels = []\n",
    "    for subdir, _, files in os.walk(folder):\n",
    "        for file in files:\n",
    "            img_path = os.path.join(subdir, file)\n",
    "            img = cv2.imread(img_path)\n",
    "            if img is not None:\n",
    "                \n",
    "                img = cv2.resize(img, (128, 128))\n",
    "                \n",
    "                gray = cv2.cvtColor(img, cv2.COLOR_BGR2GRAY)\n",
    "                \n",
    "                gray = gray / 255.0\n",
    "                images.append(gray)\n",
    "                \n",
    "                label = os.path.basename(subdir)\n",
    "                labels.append(label)\n",
    "    return np.array(images), np.array(labels)\n",
    "\n",
    "images, labels = load_images_from_folder('dataset')\n"
   ]
  },
  {
   "cell_type": "code",
   "execution_count": 3,
   "id": "42727047",
   "metadata": {},
   "outputs": [
    {
     "name": "stderr",
     "output_type": "stream",
     "text": [
      "/home/rajat/anaconda3/lib/python3.9/site-packages/scipy/__init__.py:146: UserWarning: A NumPy version >=1.16.5 and <1.23.0 is required for this version of SciPy (detected version 1.24.4\n",
      "  warnings.warn(f\"A NumPy version >={np_minversion} and <{np_maxversion}\"\n"
     ]
    }
   ],
   "source": [
    "from skimage.feature import hog\n",
    "from skimage.feature import local_binary_pattern\n",
    "\n",
    "def extract_hog(image):\n",
    "    if image is None or len(image.shape) != 2:\n",
    "        return np.array([])\n",
    "    hog_features, hog_image = hog(image, pixels_per_cell=(8, 8), cells_per_block=(2, 2), visualize=True)\n",
    "    return hog_features\n",
    "\n",
    "\n",
    "def build_filters():\n",
    "    filters = []\n",
    "    ksize = 31\n",
    "    for theta in np.arange(0, np.pi, np.pi / 4):\n",
    "        for sigma in (1, 3):\n",
    "            for lambd in np.arange(0, np.pi, np.pi / 4):\n",
    "                kernel = cv2.getGaborKernel((ksize, ksize), sigma, theta, lambd, 0.5, 0, ktype=cv2.CV_32F)\n",
    "                filters.append(kernel)\n",
    "    return filters\n",
    "\n",
    "def process(image, filters):\n",
    "    if image is None or len(image.shape) != 2:\n",
    "        return np.array([])\n",
    "    accum = np.zeros_like(image)\n",
    "    for kernel in filters:\n",
    "        fimg = cv2.filter2D(image, cv2.CV_8UC3, kernel)\n",
    "        np.maximum(accum, fimg, accum)\n",
    "    return accum.flatten()\n",
    "\n",
    "filters = build_filters()\n",
    "\n",
    "def extract_lbp(image, P=8, R=1):\n",
    "    if image is None or len(image.shape) != 2:\n",
    "        return np.array([])\n",
    "    lbp = local_binary_pattern(image, P, R, method='uniform')\n",
    "    n_bins = int(lbp.max() + 1)\n",
    "    hist, _ = np.histogram(lbp, bins=n_bins, range=(0, n_bins))\n",
    "    return hist\n",
    "\n",
    "def extract_sift(image):\n",
    "    if image is None or len(image.shape) != 2 or image.dtype != np.uint8:\n",
    "        return np.array([])\n",
    "    sift = cv2.SIFT_create()\n",
    "    keypoints, descriptors = sift.detectAndCompute(image, None)\n",
    "    if descriptors is not None:\n",
    "        return descriptors.flatten()\n",
    "    else:\n",
    "        return np.array([])\n",
    "    \n",
    "def extract_combined_features(image):\n",
    "    if image is None or len(image.shape) != 2:\n",
    "        return np.array([])\n",
    "\n",
    "    hog_features = extract_hog(image)\n",
    "    gabor_features = process(image, filters)\n",
    "    lbp_features = extract_lbp(image)\n",
    "    sift_features = extract_sift(image)\n",
    "\n",
    "    # Combine features ensuring they are of the same size\n",
    "    combined_features = np.hstack((hog_features, gabor_features, lbp_features, sift_features))\n",
    "\n",
    "    # Handling cases where some features might be empty by padding with zeros\n",
    "    expected_length = 128 * 128 * 4  # Example expected length, adjust as needed\n",
    "    if combined_features.size < expected_length:\n",
    "        combined_features = np.pad(combined_features, (0, expected_length - combined_features.size), 'constant')\n",
    "\n",
    "    return combined_features\n",
    "\n",
    "combined_features = np.array([extract_combined_features(img) for img in images])\n"
   ]
  },
  {
   "cell_type": "code",
   "execution_count": 9,
   "id": "c9ce690a",
   "metadata": {},
   "outputs": [
    {
     "name": "stdout",
     "output_type": "stream",
     "text": [
      "Accuracy: 0.7550047664442326\n",
      "Classification Report:\n",
      "               precision    recall  f1-score   support\n",
      "\n",
      "    Building       0.68      0.51      0.58        92\n",
      "      Forest       0.83      0.99      0.90       526\n",
      "     Glacier       0.65      0.55      0.59       106\n",
      "   Mountains       0.60      0.60      0.60       112\n",
      "         Sea       0.62      0.54      0.57       108\n",
      "     Streets       0.77      0.41      0.53       105\n",
      "\n",
      "    accuracy                           0.76      1049\n",
      "   macro avg       0.69      0.60      0.63      1049\n",
      "weighted avg       0.74      0.76      0.74      1049\n",
      "\n",
      "Confusion Matrix:\n",
      " [[ 47  24   3   5   2  11]\n",
      " [  0 519   0   4   2   1]\n",
      " [  1  20  58  13  13   1]\n",
      " [  2  14  11  67  18   0]\n",
      " [  3  13  12  22  58   0]\n",
      " [ 16  39   5   1   1  43]]\n"
     ]
    }
   ],
   "source": [
    "from sklearn.decomposition import PCA\n",
    "\n",
    "# Apply PCA for Dimensionality Reduction\n",
    "pca = PCA(n_components=6)  # Adjust the number of components as needed\n",
    "combined_features_reduced = pca.fit_transform(combined_features)\n",
    "\n",
    "# Train-Test Split\n",
    "from sklearn.model_selection import train_test_split\n",
    "\n",
    "X_train, X_test, y_train, y_test = train_test_split(combined_features, labels, test_size=0.2, random_state=42)\n",
    "\n",
    "# Train a Classifier (e.g., SVM)\n",
    "# from sklearn.svm import SVC\n",
    "from sklearn.ensemble import RandomForestClassifier\n",
    "# clf = SVC(kernel='rbf')\n",
    "clf = RandomForestClassifier(n_estimators = 100) \n",
    "clf.fit(X_train, y_train)\n",
    "\n",
    "# Evaluate the Model\n",
    "from sklearn.metrics import accuracy_score, classification_report, confusion_matrix\n",
    "\n",
    "y_pred = clf.predict(X_test)\n",
    "print(\"Accuracy:\", accuracy_score(y_test, y_pred))\n",
    "print(\"Classification Report:\\n\", classification_report(y_test, y_pred))\n",
    "print(\"Confusion Matrix:\\n\", confusion_matrix(y_test, y_pred))\n"
   ]
  },
  {
   "cell_type": "code",
   "execution_count": 10,
   "id": "2905c183",
   "metadata": {},
   "outputs": [
    {
     "data": {
      "text/plain": [
       "['BombaymodelRF.pkl']"
      ]
     },
     "execution_count": 10,
     "metadata": {},
     "output_type": "execute_result"
    }
   ],
   "source": [
    "import joblib\n",
    "\n",
    "joblib.dump(clf, \"BombaymodelRF.pkl\")\n",
    "# joblib.dump(pca, \"Bombaypca.pkl\")"
   ]
  },
  {
   "cell_type": "code",
   "execution_count": 11,
   "id": "53f88113",
   "metadata": {
    "scrolled": true
   },
   "outputs": [
    {
     "name": "stdout",
     "output_type": "stream",
     "text": [
      " * Serving Flask app '__main__'\n",
      " * Debug mode: off\n"
     ]
    },
    {
     "name": "stderr",
     "output_type": "stream",
     "text": [
      "WARNING: This is a development server. Do not use it in a production deployment. Use a production WSGI server instead.\n",
      " * Running on http://127.0.0.1:5000\n",
      "Press CTRL+C to quit\n",
      "127.0.0.1 - - [13/Jun/2024 12:50:02] \"GET / HTTP/1.1\" 200 -\n",
      "127.0.0.1 - - [13/Jun/2024 12:50:08] \"POST /predict HTTP/1.1\" 200 -\n",
      "127.0.0.1 - - [13/Jun/2024 12:50:53] \"POST /predict HTTP/1.1\" 200 -\n"
     ]
    }
   ],
   "source": [
    "from flask import Flask, request, jsonify, render_template\n",
    "import cv2\n",
    "import numpy as np\n",
    "import joblib\n",
    "\n",
    "app = Flask(__name__)\n",
    "\n",
    "# Load the trained model and PCA\n",
    "model = joblib.load('BombaymodelRF.pkl')\n",
    "# pca = joblib.load('Bombaypca.pkl')\n",
    "\n",
    "# Load the filters for Gabor\n",
    "filters = build_filters()\n",
    "\n",
    "def preprocess_image(image):\n",
    "    # Resize, grayscale, normalize, and extract features\n",
    "    if image is None or image.size == 0:\n",
    "        return None\n",
    "    image = cv2.resize(image, (128, 128))\n",
    "    gray = cv2.cvtColor(image, cv2.COLOR_BGR2GRAY)\n",
    "    gray = gray / 255.0\n",
    "    features = extract_combined_features(gray)\n",
    "    # features_reduced = pca.transform([features])\n",
    "    return features.reshape(1,-1)\n",
    "\n",
    "@app.route('/')\n",
    "def home():\n",
    "    return render_template('index.html')\n",
    "\n",
    "@app.route('/predict', methods=['POST'])\n",
    "def predict():\n",
    "    if 'file' not in request.files:\n",
    "        return \"No file part\"\n",
    "    file = request.files['file']\n",
    "    if file.filename == '':\n",
    "        return \"No selected file\"\n",
    "    if file:\n",
    "        image = cv2.imdecode(np.frombuffer(file.read(), np.uint8), cv2.IMREAD_COLOR)\n",
    "        features = preprocess_image(image)\n",
    "        if features is None or features.shape[0] == 0:\n",
    "            return jsonify({'error': 'Invalid image'})\n",
    "        prediction = model.predict(features)\n",
    "        return jsonify({'prediction': prediction[0]})\n",
    "\n",
    "if __name__ == '__main__':\n",
    "    app.run()\n"
   ]
  },
  {
   "cell_type": "code",
   "execution_count": null,
   "id": "b5962a97-2e00-41ec-bbcb-df2393e8dfca",
   "metadata": {},
   "outputs": [],
   "source": []
  }
 ],
 "metadata": {
  "kernelspec": {
   "display_name": "Python 3",
   "language": "python",
   "name": "python3"
  },
  "language_info": {
   "codemirror_mode": {
    "name": "ipython",
    "version": 3
   },
   "file_extension": ".py",
   "mimetype": "text/x-python",
   "name": "python",
   "nbconvert_exporter": "python",
   "pygments_lexer": "ipython3",
   "version": "3.9.12"
  }
 },
 "nbformat": 4,
 "nbformat_minor": 5
}
